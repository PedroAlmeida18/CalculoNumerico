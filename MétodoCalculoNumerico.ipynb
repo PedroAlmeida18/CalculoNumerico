{
  "nbformat": 4,
  "nbformat_minor": 0,
  "metadata": {
    "colab": {
      "provenance": [],
      "authorship_tag": "ABX9TyMPbj/vr98YDcsjPNSk9/Pp",
      "include_colab_link": true
    },
    "kernelspec": {
      "name": "python3",
      "display_name": "Python 3"
    },
    "language_info": {
      "name": "python"
    }
  },
  "cells": [
    {
      "cell_type": "markdown",
      "metadata": {
        "id": "view-in-github",
        "colab_type": "text"
      },
      "source": [
        "<a href=\"https://colab.research.google.com/github/PedroAlmeida18/CalculoNumerico/blob/main/M%C3%A9todoCalculoNumerico.ipynb\" target=\"_parent\"><img src=\"https://colab.research.google.com/assets/colab-badge.svg\" alt=\"Open In Colab\"/></a>"
      ]
    },
    {
      "cell_type": "code",
      "execution_count": null,
      "metadata": {
        "colab": {
          "base_uri": "https://localhost:8080/"
        },
        "id": "Tn-RDd18jFsP",
        "outputId": "c2af0c0d-80b1-40b1-c179-b0cb4fc446fb"
      },
      "outputs": [
        {
          "output_type": "stream",
          "name": "stdout",
          "text": [
            "Método da Bissecção - Aluno : Pedro Henrique de Almeida Santos\n"
          ]
        }
      ],
      "source": [
        "import math\n",
        "\n",
        "print(\"Método da Bissecção - Aluno : Pedro Henrique de Almeida Santos\")"
      ]
    },
    {
      "cell_type": "code",
      "source": [
        "def f(x):\n",
        "  return x - x *math.log(x);"
      ],
      "metadata": {
        "id": "l0KTtl8UmwDL"
      },
      "execution_count": null,
      "outputs": []
    },
    {
      "cell_type": "code",
      "source": [
        "# Dados inicias\n",
        "a = 1;\n",
        "b = 3;\n",
        "#precisão\n",
        "erro = 0.00009\n",
        "#Numeros de interações\n",
        "k = 0;"
      ],
      "metadata": {
        "id": "poi8rlE5nJD1"
      },
      "execution_count": null,
      "outputs": []
    },
    {
      "cell_type": "code",
      "source": [
        "\n",
        "while  b -a> erro:\n",
        "  m = (a+b)/2;\n",
        "  if f(a)*f(m)<0:\n",
        "    b = m;\n",
        "  else :\n",
        "    a = m;\n",
        "  k = k+1;\n",
        "print(\"A raiz encontrada foi : \", (a+b)/2)\n",
        "print ( \"O número de interações foi : \",k)\n"
      ],
      "metadata": {
        "colab": {
          "base_uri": "https://localhost:8080/"
        },
        "id": "YIwUp99voSgJ",
        "outputId": "c5c65761-400a-4edd-fb82-eaef42fef495"
      },
      "execution_count": null,
      "outputs": [
        {
          "output_type": "stream",
          "name": "stdout",
          "text": [
            "A raiz encontrada foi :  2.7183056233150484\n",
            "O número de interações foi :  59\n"
          ]
        }
      ]
    },
    {
      "cell_type": "code",
      "source": [
        "# Pedro Henrique de Almeida Santos - Método da posição Falsa ;\n",
        "import math\n",
        "def f(x):\n",
        "  return x - x * math.log(x);\n",
        "\n",
        "# Dados inicias\n",
        "a = 1;\n",
        "b = 3;\n",
        "#precisão\n",
        "erro = 0.00009\n",
        "#Numeros de interações\n",
        "k = 0;\n",
        "M = (a* f(b)- b*f(a))/(f(b)-f(a));\n",
        "while abs(f(M))> erro :\n",
        "        M = (a* f(b)- b*f(a))/(f(b)-f(a));\n",
        "\n",
        "        if f(a)* f(M)<0:\n",
        "          b = M\n",
        "        else :\n",
        "          a = M\n",
        "        k = k+1;\n",
        "print(\"A raiz encontrada foi : \", M)\n",
        "print ( \"O número de interações foi : \",k)\n",
        "\n",
        "\n",
        "\n",
        "\n",
        "\n"
      ],
      "metadata": {
        "colab": {
          "base_uri": "https://localhost:8080/"
        },
        "id": "0rowqFfzuzvL",
        "outputId": "e1b42d38-09d8-44ef-c3d7-06b3fa9c32b9"
      },
      "execution_count": null,
      "outputs": [
        {
          "output_type": "stream",
          "name": "stdout",
          "text": [
            "A raiz encontrada foi :  2.7182617451884803\n",
            "O número de interações foi :  4\n"
          ]
        }
      ]
    },
    {
      "cell_type": "code",
      "source": [
        "#Pedro Henrique de Almeida Santos\n",
        "import math ;\n",
        "print (\"Método do ponto fixo - Encontrar os zeros da função \")\n",
        "def f(x):\n",
        "  return x - x * math.log(x);\n",
        "def phi(x):\n",
        " return x/math.log(x);\n",
        "#aproximação inicial\n",
        "x_k = 2;\n",
        "erro = 0.00009\n",
        "#Contagem das iterações\n",
        "k =0;\n",
        "#Inicio das iterações\n",
        "while abs(f(x_k))> erro :\n",
        "  x_k= phi(x_k);\n",
        "  k+=1;\n",
        "\n",
        "print(\"A raiz encontrada foi : \", x_k)\n",
        "print ( \"O número de interações foi : \",k)\n",
        "\n",
        "\n"
      ],
      "metadata": {
        "colab": {
          "base_uri": "https://localhost:8080/"
        },
        "id": "yY9l6vkipKd2",
        "outputId": "d17fdc3c-c5e4-4547-9288-c0a3c4a34e42"
      },
      "execution_count": 28,
      "outputs": [
        {
          "output_type": "stream",
          "name": "stdout",
          "text": [
            "Método do ponto fixo - Encontrar os zeros da função \n",
            "A raiz encontrada foi :  2.7182858070399316\n",
            "O número de interações foi :  3\n"
          ]
        }
      ]
    },
    {
      "cell_type": "code",
      "source": [
        "#PEDRO HENRIQUE DE ALMEIDA - MÉTODO NEWTON\n",
        "import math ;\n",
        "def f(x):\n",
        "  return x - x * math.log(x);\n",
        "def f_linha (x):\n",
        "  return -math.log(x);\n",
        "def phi(x):\n",
        "  return x- f(x)/f_linha(x);\n",
        "#aproximação inicial\n",
        "x_k = 2;\n",
        "erro = 0.00009\n",
        "#Contagem das iterações\n",
        "k =0;\n",
        "#Inicio das iterações\n",
        "while abs(f(x_k))> erro :\n",
        "  x_k= phi(x_k);\n",
        "  k+=1;\n",
        "\n",
        "print(\"A raiz encontrada foi : \", x_k)\n",
        "print ( \"O número de interações foi : \",k)\n"
      ],
      "metadata": {
        "colab": {
          "base_uri": "https://localhost:8080/"
        },
        "id": "LsuFSTQwzs35",
        "outputId": "5ea5f624-4254-4c39-f974-a00bbb6298cb"
      },
      "execution_count": 25,
      "outputs": [
        {
          "output_type": "stream",
          "name": "stdout",
          "text": [
            "A raiz encontrada foi :  2.718285807039931\n",
            "O número de interações foi :  3\n"
          ]
        }
      ]
    }
  ]
}