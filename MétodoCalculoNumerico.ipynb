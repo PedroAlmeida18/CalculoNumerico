{
  "nbformat": 4,
  "nbformat_minor": 0,
  "metadata": {
    "colab": {
      "provenance": [],
      "authorship_tag": "ABX9TyNVIchAoEGUorl4InHxOKig",
      "include_colab_link": true
    },
    "kernelspec": {
      "name": "python3",
      "display_name": "Python 3"
    },
    "language_info": {
      "name": "python"
    }
  },
  "cells": [
    {
      "cell_type": "markdown",
      "metadata": {
        "id": "view-in-github",
        "colab_type": "text"
      },
      "source": [
        "<a href=\"https://colab.research.google.com/github/PedroAlmeida18/CalculoNumerico/blob/main/M%C3%A9todoCalculoNumerico.ipynb\" target=\"_parent\"><img src=\"https://colab.research.google.com/assets/colab-badge.svg\" alt=\"Open In Colab\"/></a>"
      ]
    },
    {
      "cell_type": "code",
      "source": [
        "import math\n",
        "\n",
        "\n",
        "print(\"Método da Bissecção - Aluno : Pedro Henrique de Almeida Santos\")\n",
        "def f(x):\n",
        "  return x - x *math.log(x);\n",
        " # Dados iniciais do intervalo\n",
        "a = 2;\n",
        "b = 3;\n",
        "#precisão\n",
        "erro = 0.00009\n",
        "#Números de iterações\n",
        "k = 0;\n",
        "while  b -a> erro:\n",
        "  m = (a+b)/2;\n",
        "  if f(a)*f(m)<0:\n",
        "    b = m;\n",
        "  else :\n",
        "    a = m;\n",
        "  k = k+1;\n",
        "print(\"A raiz encontrada foi : \", (a+b)/2)\n",
        "print ( \"O número de iterações foi : \",k)"
      ],
      "metadata": {
        "id": "BP4dXH7ccAHm",
        "outputId": "7ae5a7b1-424d-4ebc-8ab6-84c889d9abd5",
        "colab": {
          "base_uri": "https://localhost:8080/"
        }
      },
      "execution_count": null,
      "outputs": [
        {
          "output_type": "stream",
          "name": "stdout",
          "text": [
            "Método da Bissecção - Aluno : Pedro Henrique de Almeida Santos\n",
            "A raiz encontrada foi :  2.718292236328125\n",
            "O número de iterações foi :  14\n"
          ]
        }
      ]
    },
    {
      "cell_type": "code",
      "source": [
        "# Pedro Henrique de Almeida Santos - Método da posição Falsa ;\n",
        "import math\n",
        "def f(x):\n",
        "  return x - x * math.log(x);\n",
        "\n",
        "\n",
        "# Dados inicias\n",
        "a = 2;\n",
        "b = 3;\n",
        "#precisão\n",
        "erro = 0.00009\n",
        "#Números de iterações\n",
        "k = 0;\n",
        "M = (a* f(b)- b*f(a))/(f(b)-f(a));\n",
        "while abs(f(M))> erro :\n",
        "        M = (a* f(b)- b*f(a))/(f(b)-f(a));\n",
        "        if f(a)* f(M)<0:\n",
        "          b = M\n",
        "        else :\n",
        "          a = M\n",
        "        k = k+1;\n",
        "\n",
        "print(\"A raiz encontrada foi : \", M)\n",
        "print ( \"O número de iterações foi : \",k)"
      ],
      "metadata": {
        "colab": {
          "base_uri": "https://localhost:8080/"
        },
        "id": "0rowqFfzuzvL",
        "outputId": "262dc3a7-0d8f-4025-f3c1-ee3011d1d555"
      },
      "execution_count": null,
      "outputs": [
        {
          "output_type": "stream",
          "name": "stdout",
          "text": [
            "A raiz encontrada foi :  2.7182770319402607\n",
            "O número de iterações foi :  4\n"
          ]
        }
      ]
    },
    {
      "cell_type": "code",
      "source": [
        "#Pedro Henrique de Almeida Santos\n",
        "import math ;\n",
        "print (\"Método do ponto fixo - Encontrar os zeros da função \")\n",
        "def f(x):\n",
        "  return x - x *math.log(x);\n",
        "def phi(x):\n",
        " return x/math.log(x);\n",
        "#aproximação inicial\n",
        "x_k = 2;\n",
        "erro = 0.00009\n",
        "#Contagem das iterações\n",
        "k =0;\n",
        "#Inicio das iterações\n",
        "while abs(f(x_k))> erro :\n",
        "  x_k= phi(x_k);\n",
        "  k+=1;\n",
        "\n",
        "print(\"A raiz encontrada foi : \", x_k)\n",
        "print ( \"O número de iterações foi : \",k)\n"
      ],
      "metadata": {
        "colab": {
          "base_uri": "https://localhost:8080/"
        },
        "id": "yY9l6vkipKd2",
        "outputId": "0e0cfdea-3cc2-4d17-81b1-ef27ba23454f"
      },
      "execution_count": null,
      "outputs": [
        {
          "output_type": "stream",
          "name": "stdout",
          "text": [
            "Método do ponto fixo - Encontrar os zeros da função \n",
            "A raiz encontrada foi :  2.7182858070399316\n",
            "O número de iterações foi :  3\n"
          ]
        }
      ]
    },
    {
      "cell_type": "code",
      "source": [
        "#PEDRO HENRIQUE DE ALMEIDA - MÉTODO NEWTON\n",
        "import math ;\n",
        "def f(x):\n",
        "  return x - x * math.log(x);\n",
        "def f_linha (x):\n",
        "  return -math.log(x);\n",
        "def phi(x):\n",
        "  return x- f(x)/f_linha(x);\n",
        "#aproximação inicial\n",
        "x_k = 2;\n",
        "erro = 0.00009\n",
        "#Contagem das iterações\n",
        "k =0;\n",
        "#Inicio das iterações\n",
        "while abs(f(x_k))> erro :\n",
        "  x_k= phi(x_k);\n",
        "  k+=1;\n",
        "\n",
        "print(\"A raiz encontrada foi : \", x_k)\n",
        "print ( \"O número de interações foi : \",k)\n"
      ],
      "metadata": {
        "colab": {
          "base_uri": "https://localhost:8080/"
        },
        "id": "LsuFSTQwzs35",
        "outputId": "5ea5f624-4254-4c39-f974-a00bbb6298cb"
      },
      "execution_count": null,
      "outputs": [
        {
          "output_type": "stream",
          "name": "stdout",
          "text": [
            "A raiz encontrada foi :  2.718285807039931\n",
            "O número de interações foi :  3\n"
          ]
        }
      ]
    },
    {
      "cell_type": "code",
      "source": [
        "import math\n",
        "\n",
        "def f(x):\n",
        "    return x - x * math.log(x)\n",
        "\n",
        "x_0 = 2.1  # Valor ajustado para evitar erro de domínio\n",
        "x_1 = 3.1  # Valor ajustado para evitar erro de domínio\n",
        "\n",
        "erro = 0.00009\n",
        "k = 0\n",
        "\n",
        "while abs(f(x_1)) > erro:\n",
        "    if abs(x_0 - x_1) < erro or x_0 <= 0 or x_1 <= 0:\n",
        "        break\n",
        "\n",
        "    x_2 = (x_0 * f(x_1) - x_1 * f(x_0)) / (f(x_1) - f(x_0))\n",
        "    x_0 = x_1\n",
        "    x_1 = x_2\n",
        "    k += 1\n",
        "\n",
        "if x_0 <= 0 or x_1 <= 0:\n",
        "    print(\"Erro: Valores de x_0 ou x_1 resultaram em um erro de domínio.\")\n",
        "else:\n",
        "    print(\"A raiz encontrada foi:\", x_1)\n",
        "    print(\"O número de iterações foi:\", k)\n"
      ],
      "metadata": {
        "colab": {
          "base_uri": "https://localhost:8080/"
        },
        "id": "WX-IamOAjP_Q",
        "outputId": "ec763aa2-dbb5-4701-84a2-5b4d3542a94b"
      },
      "execution_count": 21,
      "outputs": [
        {
          "output_type": "stream",
          "name": "stdout",
          "text": [
            "A raiz encontrada foi: 2.7183085925925896\n",
            "O número de iterações foi: 3\n"
          ]
        }
      ]
    }
  ]
}