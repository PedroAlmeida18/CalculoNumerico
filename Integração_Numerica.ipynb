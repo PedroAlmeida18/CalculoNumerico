{
  "nbformat": 4,
  "nbformat_minor": 0,
  "metadata": {
    "colab": {
      "provenance": [],
      "authorship_tag": "ABX9TyOHalpjwi8Sj250uD1mWwqp",
      "include_colab_link": true
    },
    "kernelspec": {
      "name": "python3",
      "display_name": "Python 3"
    },
    "language_info": {
      "name": "python"
    }
  },
  "cells": [
    {
      "cell_type": "markdown",
      "metadata": {
        "id": "view-in-github",
        "colab_type": "text"
      },
      "source": [
        "<a href=\"https://colab.research.google.com/github/PedroAlmeida18/CalculoNumerico/blob/main/Integra%C3%A7%C3%A3o_Numerica.ipynb\" target=\"_parent\"><img src=\"https://colab.research.google.com/assets/colab-badge.svg\" alt=\"Open In Colab\"/></a>"
      ]
    },
    {
      "cell_type": "code",
      "execution_count": 14,
      "metadata": {
        "colab": {
          "base_uri": "https://localhost:8080/"
        },
        "id": "CvvJZQclBBSE",
        "outputId": "8e4a16c4-5171-4e70-d69e-6fa8ae65e2db"
      },
      "outputs": [
        {
          "output_type": "stream",
          "name": "stdout",
          "text": [
            "Pedro Henrique de Almeida Santos - Integração Númerica \n",
            " A resposta da integral é :\n",
            "0.7450808363896729\n"
          ]
        }
      ],
      "source": [
        "import math;\n",
        "print(\"Pedro Henrique de Almeida Santos - Integração Númerica \")\n",
        "def integral_regra_trapezio(f,a,b,n):\n",
        "  integral = 0\n",
        "  h = (b-a)/n\n",
        "  x= (n+1)*[0]\n",
        "  x[0]=a\n",
        "  x[1]=b\n",
        "  for i in range(1,n-1):\n",
        "    x[i]=x[i-1]+h\n",
        "    integral+=2*f(x[i])\n",
        "  integral += f(x[0]) + f(x[-1])\n",
        "  integral *=(h/2)\n",
        "  return integral\n",
        "def f(t):\n",
        "  return math.exp(-t**2)\n",
        "print( \"A resposta da integral é :\")\n",
        "print(integral_regra_trapezio(f,0,1,41))\n",
        ""
      ]
    }
  ]
}