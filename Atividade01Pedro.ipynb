{
  "nbformat": 4,
  "nbformat_minor": 0,
  "metadata": {
    "colab": {
      "provenance": [],
      "authorship_tag": "ABX9TyPKpL0KoXpLP4S+SynQUw6J",
      "include_colab_link": true
    },
    "kernelspec": {
      "name": "python3",
      "display_name": "Python 3"
    },
    "language_info": {
      "name": "python"
    }
  },
  "cells": [
    {
      "cell_type": "markdown",
      "metadata": {
        "id": "view-in-github",
        "colab_type": "text"
      },
      "source": [
        "<a href=\"https://colab.research.google.com/github/PedroAlmeida18/CalculoNumerico/blob/main/Atividade01Pedro.ipynb\" target=\"_parent\"><img src=\"https://colab.research.google.com/assets/colab-badge.svg\" alt=\"Open In Colab\"/></a>"
      ]
    },
    {
      "cell_type": "code",
      "execution_count": null,
      "metadata": {
        "colab": {
          "base_uri": "https://localhost:8080/"
        },
        "id": "YfYW59iIfw8g",
        "outputId": "d76d5ee1-6d07-43b2-e695-ddff5c905642"
      },
      "outputs": [
        {
          "output_type": "stream",
          "name": "stdout",
          "text": [
            "2.220446049250313e-16\n"
          ]
        }
      ],
      "source": [
        "A = 1; \n",
        "s = 2;\n",
        "while( s>1):\n",
        "  A  = A/2 ;\n",
        "  s = 1+A;\n",
        "print(2*A);\n",
        "\n",
        "\n"
      ]
    },
    {
      "cell_type": "markdown",
      "source": [
        "Disciplina : Cálculo Numérico \n",
        "Aluno : Pedro Henrique de Almeida Santos \n",
        "Atividade 01 - Aula : erros\n",
        "Questionamento :Interprete o resultado, isto é, o que o número obtido significa/representa?\n",
        "Resposta : Esse valor nunca irá chegar em zero, pois ocorre uma divisão sucessiva por 2, então essa conta seria infinita. Porém, a máquina não possui uma memória infinita dessa forma ocorre um erro no computador ao rodar o código. Para obtermos o valor de presição antes do erro realizamos a multiplicação por 2 com A. Assim, temos o valor de precisão da máquina para esse algoritmo. "
      ],
      "metadata": {
        "id": "ELJ45mJ2iUl7"
      }
    },
    {
      "cell_type": "markdown",
      "source": [],
      "metadata": {
        "id": "ld81i2XWqqwk"
      }
    },
    {
      "cell_type": "code",
      "source": [],
      "metadata": {
        "id": "IWGPtJmEscQU"
      },
      "execution_count": null,
      "outputs": []
    }
  ]
}