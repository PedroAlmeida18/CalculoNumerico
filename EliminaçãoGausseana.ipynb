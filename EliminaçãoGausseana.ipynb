{
  "nbformat": 4,
  "nbformat_minor": 0,
  "metadata": {
    "colab": {
      "provenance": [],
      "authorship_tag": "ABX9TyO8d4r1ZQ7mthAXO7VmmRHu",
      "include_colab_link": true
    },
    "kernelspec": {
      "name": "python3",
      "display_name": "Python 3"
    },
    "language_info": {
      "name": "python"
    }
  },
  "cells": [
    {
      "cell_type": "markdown",
      "metadata": {
        "id": "view-in-github",
        "colab_type": "text"
      },
      "source": [
        "<a href=\"https://colab.research.google.com/github/PedroAlmeida18/CalculoNumerico/blob/main/Elimina%C3%A7%C3%A3oGausseana.ipynb\" target=\"_parent\"><img src=\"https://colab.research.google.com/assets/colab-badge.svg\" alt=\"Open In Colab\"/></a>"
      ]
    },
    {
      "cell_type": "code",
      "execution_count": 1,
      "metadata": {
        "colab": {
          "base_uri": "https://localhost:8080/"
        },
        "id": "JqicLVvKvBrK",
        "outputId": "a80c4b11-34d3-463e-c2ff-294923b0a65d"
      },
      "outputs": [
        {
          "output_type": "stream",
          "name": "stdout",
          "text": [
            "PEDRO HENRIQUE DE ALMEIDA SANTOS -  Método de Gauss \n"
          ]
        }
      ],
      "source": [
        "print(\"PEDRO HENRIQUE DE ALMEIDA SANTOS -  Método de Gauss \")\n"
      ]
    }
  ]
}