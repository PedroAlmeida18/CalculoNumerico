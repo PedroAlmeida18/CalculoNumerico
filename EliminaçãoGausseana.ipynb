{
  "nbformat": 4,
  "nbformat_minor": 0,
  "metadata": {
    "colab": {
      "provenance": [],
      "authorship_tag": "ABX9TyOvgDX/5myI/BR/buqjxshZ",
      "include_colab_link": true
    },
    "kernelspec": {
      "name": "python3",
      "display_name": "Python 3"
    },
    "language_info": {
      "name": "python"
    }
  },
  "cells": [
    {
      "cell_type": "markdown",
      "metadata": {
        "id": "view-in-github",
        "colab_type": "text"
      },
      "source": [
        "<a href=\"https://colab.research.google.com/github/PedroAlmeida18/CalculoNumerico/blob/main/Elimina%C3%A7%C3%A3oGausseana.ipynb\" target=\"_parent\"><img src=\"https://colab.research.google.com/assets/colab-badge.svg\" alt=\"Open In Colab\"/></a>"
      ]
    },
    {
      "cell_type": "code",
      "execution_count": 27,
      "metadata": {
        "colab": {
          "base_uri": "https://localhost:8080/"
        },
        "id": "JqicLVvKvBrK",
        "outputId": "dc0fbd09-6cfb-4164-dbb5-e79374429831"
      },
      "outputs": [
        {
          "output_type": "stream",
          "name": "stdout",
          "text": [
            "[[ 3.00000000e+00  2.00000000e+00  4.00000000e+00]\n",
            " [ 0.00000000e+00  3.33333333e-01  6.66666667e-01]\n",
            " [ 0.00000000e+00  5.55111512e-17 -8.00000000e+00]]\n",
            "-----------------------\n",
            "[1, 1.6666666666666667, -4.440892098500626e-16]\n"
          ]
        }
      ],
      "source": [
        "import numpy as np\n",
        "def gauss(A,b):\n",
        "  # A é a matriz dos coeficientes\n",
        "  # b é o vetor de termos independentes\n",
        "\n",
        "  n = len(b)\n",
        "\n",
        "  for k in range(0, n-1): #Percorre a diagonal\n",
        "     pivo = A[k][k]\n",
        "\n",
        "     for i in range(k+1, n): #Percorre as linhas\n",
        "        m = A[i][k] / pivo\n",
        "\n",
        "        for j in range(k,n): # Percorre as colunas\n",
        "          A[i][j] = A[i][j] - m * A[k][j]\n",
        "\n",
        "        b[i] = b[i] - m*b[k]\n",
        "\n",
        "  return A,b # depois de ter feito o escalonamento\n",
        "\n",
        "#Teste\n",
        "A = [[3,2,4], [1,1,2], [4,3,-2]]\n",
        "b = [1,2,3]\n",
        "\n",
        "A_t,b_t = gauss(A,b)\n",
        "\n",
        "print(np.array(A_t))\n",
        "\n",
        "print(\"-----------------------\")\n",
        "\n",
        "print(b_t)"
      ]
    },
    {
      "cell_type": "code",
      "source": [],
      "metadata": {
        "id": "k8roWbDK1tYs"
      },
      "execution_count": null,
      "outputs": []
    },
    {
      "cell_type": "code",
      "source": [
        "def subs_reversa(A_t,b_t):\n",
        "\n",
        "    n = len(b)\n",
        "\n",
        "    x = n*[0] #Vetor Solution\n",
        "\n",
        "    x[n-1] = b[n-1] / A[n-1][n-1]\n",
        "\n",
        "    for k in range(n-2,-1,-1):\n",
        "      s = 0\n",
        "      for j in range(k+1,n):\n",
        "        s = s +A[k][j]*x[j]\n",
        "\n",
        "\n",
        "      x[k] = (b[k] - s) / A[k][k]\n",
        "\n",
        "    return x # retorna a solução do SL A*x = b\n",
        "\n",
        "    #teste\n",
        "\n",
        "x = subs_reversa(A_t,b_t)\n",
        "print(x)\n"
      ],
      "metadata": {
        "colab": {
          "base_uri": "https://localhost:8080/"
        },
        "id": "ICBYSC5W5MWk",
        "outputId": "a322aa4b-f75e-4cd4-c944-c9ccac7f8cba"
      },
      "execution_count": 30,
      "outputs": [
        {
          "output_type": "stream",
          "name": "stdout",
          "text": [
            "[-3.0, 5.0, 5.551115123125783e-17]\n"
          ]
        }
      ]
    },
    {
      "cell_type": "code",
      "source": [
        "def Hilbert(n):\n",
        "    b = n*[0]\n",
        "\n",
        "    A = n*[n*[0]]\n",
        "\n",
        "    return A,b"
      ],
      "metadata": {
        "id": "2EN-3Zgd8aEG"
      },
      "execution_count": 33,
      "outputs": []
    }
  ]
}