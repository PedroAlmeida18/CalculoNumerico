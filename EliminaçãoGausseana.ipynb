{
  "nbformat": 4,
  "nbformat_minor": 0,
  "metadata": {
    "colab": {
      "provenance": [],
      "authorship_tag": "ABX9TyMV8IFGlQtXSKi/JX5d6L4v",
      "include_colab_link": true
    },
    "kernelspec": {
      "name": "python3",
      "display_name": "Python 3"
    },
    "language_info": {
      "name": "python"
    }
  },
  "cells": [
    {
      "cell_type": "markdown",
      "metadata": {
        "id": "view-in-github",
        "colab_type": "text"
      },
      "source": [
        "<a href=\"https://colab.research.google.com/github/PedroAlmeida18/CalculoNumerico/blob/main/Elimina%C3%A7%C3%A3oGausseana.ipynb\" target=\"_parent\"><img src=\"https://colab.research.google.com/assets/colab-badge.svg\" alt=\"Open In Colab\"/></a>"
      ]
    },
    {
      "cell_type": "code",
      "execution_count": 33,
      "metadata": {
        "colab": {
          "base_uri": "https://localhost:8080/"
        },
        "id": "JqicLVvKvBrK",
        "outputId": "979aa169-44cf-43d9-ee11-78e33ad9a3c5"
      },
      "outputs": [
        {
          "output_type": "stream",
          "name": "stdout",
          "text": [
            "DIGITE O VALOR DE N QUE DESEJA PARA FAZER A ELIMINAÇÃO GAUSSEANA COM MATRIZ DE HILBERT :3\n",
            "[[ 1.00000000e+00  5.00000000e-01  3.33333333e-01]\n",
            " [ 0.00000000e+00  8.33333333e-02  8.33333333e-02]\n",
            " [ 0.00000000e+00 -1.38777878e-17  5.55555556e-03]]\n",
            "________________________________________\n",
            "[1.8333333333333333, 0.16666666666666663, 0.0055555555555554526]\n",
            "________________________________________\n",
            "[0.999999999999998, 1.0000000000000122, 0.9999999999999875]\n"
          ]
        }
      ],
      "source": [
        "from binascii import b2a_base64\n",
        "import numpy as np\n",
        "def gauss(A,b):\n",
        "  # A é a matriz dos coeficientes\n",
        "  # b é o vetor de termos independentes\n",
        "\n",
        "  n = len(b)\n",
        "\n",
        "  for k in range(0, n-1): #Percorre a diagonal\n",
        "     for i in range(k+1, n): #Percorre as linhas\n",
        "        m = A[i][k] / A[k][k]\n",
        "\n",
        "        for j in range(k,n): # Percorre as colunas\n",
        "          A[i][j] = A[i][j] - m * A[k][j]\n",
        "\n",
        "        b[i] = b[i] - m*b[k]\n",
        "\n",
        "  return A,b # depois de ter feito o escalonamento\n",
        "\n",
        "def subs_reversa(A_t,b_t):\n",
        "\n",
        "    n = len(b)\n",
        "\n",
        "    x = n*[0] #Vetor Solution\n",
        "\n",
        "    x[n-1] = b[n-1] / A[n-1][n-1]\n",
        "\n",
        "    for k in range(n-2,-1,-1):\n",
        "      s = 0\n",
        "      for j in range(k+1,n):\n",
        "        s = s +A[k][j]*x[j]\n",
        "\n",
        "\n",
        "      x[k] = (b[k] - s) / A[k][k]\n",
        "\n",
        "    return x # retorna a solução do SL A*x = b\n",
        "def Hilbert(n):\n",
        "  A = np.zeros((n,n))\n",
        "\n",
        "  b = n*[0]\n",
        "\n",
        "  for i in range(0,n):\n",
        "    for j in range(0,n):\n",
        "      A[i][j] = 1 / ((i+1) + (j+1) -1)\n",
        "\n",
        "  for i in range(0,n):\n",
        "    s = 0\n",
        "    for j in range(0,n):\n",
        "      s = s + A[i][j]\n",
        "    b[i] = s\n",
        "\n",
        "  return A, b\n",
        "\n",
        "\n",
        "\n",
        "\n",
        "\n",
        "#Teste\n",
        "n = int (input(\"DIGITE O VALOR DE N QUE DESEJA PARA FAZER A ELIMINAÇÃO GAUSSEANA COM MATRIZ DE HILBERT :\" ))\n",
        "A, b = Hilbert(n)\n",
        "A_t,b_t= gauss(A,b);\n",
        "print(A_t)\n",
        "print(20*'__')\n",
        "print(b_t)\n",
        "print(20*'__')\n",
        "\n",
        "x = subs_reversa(A_t, b_t)\n",
        "print(x)\n"
      ]
    },
    {
      "cell_type": "code",
      "source": [
        "def Hilbert(n):\n",
        "  A = np.zeros((n,n))\n",
        "\n",
        "  b = n*[0]\n",
        "\n",
        "  for i in range(0,n):\n",
        "    for j in range(0,n):\n",
        "      A[i][j] = 1 / ((i+1) + (j+1) -1)\n",
        "\n",
        "  for i in range(0,n):\n",
        "    s = 0\n",
        "    for j in range(0,n):\n",
        "      s = s + A[i][j]\n",
        "    b[i] = s\n",
        "\n",
        "  return A, b"
      ],
      "metadata": {
        "id": "k8roWbDK1tYs"
      },
      "execution_count": 31,
      "outputs": []
    }
  ]
}