{
  "nbformat": 4,
  "nbformat_minor": 0,
  "metadata": {
    "colab": {
      "provenance": [],
      "authorship_tag": "ABX9TyOO9XwkEG7HYgSmAzOFGVOA",
      "include_colab_link": true
    },
    "kernelspec": {
      "name": "python3",
      "display_name": "Python 3"
    },
    "language_info": {
      "name": "python"
    }
  },
  "cells": [
    {
      "cell_type": "markdown",
      "metadata": {
        "id": "view-in-github",
        "colab_type": "text"
      },
      "source": [
        "<a href=\"https://colab.research.google.com/github/PedroAlmeida18/CalculoNumerico/blob/main/M%C3%A9todo_euler.ipynb\" target=\"_parent\"><img src=\"https://colab.research.google.com/assets/colab-badge.svg\" alt=\"Open In Colab\"/></a>"
      ]
    },
    {
      "cell_type": "code",
      "execution_count": 5,
      "metadata": {
        "colab": {
          "base_uri": "https://localhost:8080/"
        },
        "id": "1szQPW9VZFzf",
        "outputId": "3b144157-0ba2-46ff-c073-b83316d3d5ac"
      },
      "outputs": [
        {
          "output_type": "stream",
          "name": "stdout",
          "text": [
            "Método de Euler para EDO - Pedro Henrique de Almeida Santos \n",
            "QUESTÃO 6\n",
            "DIGITE O VALOR DE X0 =0\n",
            "DIGITE O VALOR DE y0 =1\n",
            "digite o valor de h = 0.1\n",
            "DIGITE O VALOR DE n =2\n",
            "x_1=0.1\n",
            "y_1=1.1\n",
            "\n",
            "\n",
            "x_2=0.2\n",
            "y_2=1.2100000000000002\n",
            "\n",
            "\n",
            "QUESTÃO 7\n",
            "DIGITE O VALOR DE X0 =0\n",
            "DIGITE O VALOR DE y0 =3\n",
            "digite o valor de h = 0.5\n",
            "DIGITE O VALOR DE n =1\n",
            "x_1=0.5\n",
            "y_1=4.7\n",
            "\n",
            "\n"
          ]
        }
      ],
      "source": [
        "import math\n",
        "import matplotlib.pyplot as plt\n",
        "import numpy as np\n",
        "print(\"Método de Euler para EDO - Pedro Henrique de Almeida Santos \")\n",
        "def euler(f,x0,y0,h,n):\n",
        "  for k in range(n):\n",
        "    y0 +=h*f(x0,y0)\n",
        "    x0 += h\n",
        "    print(f'x_{k+1}={x0}\\ny_{k+1}={y0}\\n\\n')\n",
        "\n",
        "def funcao(x,y):\n",
        "  return y\n",
        "print(\"QUESTÃO 6\")\n",
        "x0 = int(input(\"DIGITE O VALOR DE X0 =\"))\n",
        "y0 =int(input(\"DIGITE O VALOR DE y0 =\"))\n",
        "h = float(input(\"digite o valor de h = \"))\n",
        "n = int(input(\"DIGITE O VALOR DE n =\"))\n",
        "euler(funcao,x0,y0,h,n)\n",
        "\n",
        "def f(x,y):\n",
        "  return 7*np.exp3(0.3*x) -1.2*y\n",
        "print(\"QUESTÃO 7\")\n",
        "x0 = int(input(\"DIGITE O VALOR DE X0 =\"))\n",
        "y0 =int(input(\"DIGITE O VALOR DE y0 =\"))\n",
        "h = float(input(\"digite o valor de h = \"))\n",
        "n = int(input(\"DIGITE O VALOR DE n =\"))\n",
        "euler(f,x0,y0,h,n)\n"
      ]
    }
  ]
}